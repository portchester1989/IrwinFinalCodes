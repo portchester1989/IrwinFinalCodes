{
  "nbformat": 4,
  "nbformat_minor": 0,
  "metadata": {
    "colab": {
      "name": "data_augmentation",
      "version": "0.3.2",
      "provenance": []
    },
    "kernelspec": {
      "name": "python3",
      "display_name": "Python 3"
    }
  },
  "cells": [
    {
      "metadata": {
        "id": "83ULkf89cCGk",
        "colab_type": "code",
        "colab": {}
      },
      "cell_type": "code",
      "source": [
        "import imgaug.augmenters as iaa\n",
        "import imgaug.imgaug as ia\n",
        "import numpy as np\n",
        "#augment them and save somewhere\n",
        "def augment_and_save(images,bboxes,num_aug,save_path,load = True):\n",
        "      aug = iaa.SomeOf((1,2),[iaa.ElasticTransformation(alpha=(0, 3.0), sigma=0.25,mode='constant',cval = 217),iaa.Affine(rotate = (-45,45),translate_percent = (-.1,.1),mode='constant',cval = 217)])\n",
        "      bbs = [ia.BoundingBoxesOnImage([ia.BoundingBox(x1 = bboxes[j,0],y1 = bboxes[j,1], x2 = bboxes[j,0] + bboxes[j,3],y2 = bboxes[j,1] + bboxes[j,2])],shape=(256,256)) for j in range(len(bboxes))]\n",
        "      aug_boxes_list = []\n",
        "      aug_images_list = []\n",
        "      for i in range(num_aug):\n",
        "          aug_images = np.asarray(aug.augment_images(images))\n",
        "          aug_bbs = aug.augment_bounding_boxes(bbs)\n",
        "          within_image_indices = [k for k in range(len(bboxes)) if aug_bbs[k].bounding_boxes[0].is_fully_within_image((256,256))]               \n",
        "          aug_boxes = np.asarray([(aug_bbs[k].bounding_boxes[0].x1_int,aug_bbs[k].bounding_boxes[0].y1_int,aug_bbs[k].bounding_boxes[0].height,aug_bbs[k].bounding_boxes[0].width) for k in within_image_indices])\n",
        "          #print(aug_boxes.shape\n",
        "          aug_images = aug_images[within_image_indices,:,:,:]\n",
        "          aug_boxes_list.append(aug_boxes)\n",
        "          aug_images_list.append(aug_images)\n",
        "          aug_images = np.vstack(tuple(aug_images_list))\n",
        "          aug_boxes = np.vstack(tuple(aug_boxes_list))\n",
        "      np.save(save_path + '/augmented_image.npy',aug_images)\n",
        "      np.save(save_path + '/augmented_boxes.npy',aug_boxes)\n",
        "      if load:\n",
        "          return aug_images,aug_boxes"
      ],
      "execution_count": 0,
      "outputs": []
    }
  ]
}