{
  "nbformat": 4,
  "nbformat_minor": 0,
  "metadata": {
    "colab": {
      "name": "unet_10_layers_no_regularizer.ipynb",
      "version": "0.3.2",
      "provenance": []
    },
    "kernelspec": {
      "name": "python3",
      "display_name": "Python 3"
    },
    "accelerator": "GPU"
  },
  "cells": [
    {
      "metadata": {
        "id": "jPvidMT_Klu8",
        "colab_type": "text"
      },
      "cell_type": "markdown",
      "source": [
        "First, convert bounding boxes to masks.\n",
        "Then, apply unet."
      ]
    },
    {
      "metadata": {
        "id": "RKkpoEVLK3DD",
        "colab_type": "code",
        "colab": {}
      },
      "cell_type": "code",
      "source": [
        "import cv2\n",
        "import pandas as pd\n",
        "import numpy as np\n",
        "import matplotlib.pyplot as plt\n",
        "from sklearn.metrics import roc_curve\n",
        "import os\n",
        "import tensorflow as tf\n",
        "#from tensorflow.python.keras.layers import concatenate, Conv2D, MaxPooling2D, UpSampling2D, Dropout, Flatten, Dense, Softmax,BatchNormalization,Activation,Input\n"
      ],
      "execution_count": 0,
      "outputs": []
    },
    {
      "metadata": {
        "id": "Q5y0A8D_SNuy",
        "colab_type": "code",
        "colab": {
          "base_uri": "https://localhost:8080/",
          "height": 129
        },
        "outputId": "8f088328-32fe-4fe4-fd9a-6a2b255c01dd"
      },
      "cell_type": "code",
      "source": [
        "from google.colab import drive\n",
        "from google.colab import files\n",
        "drive.mount('/content/gdrive',force_remount=True)\n",
        "#uploader = files.upload()"
      ],
      "execution_count": 2,
      "outputs": [
        {
          "output_type": "stream",
          "text": [
            "Go to this URL in a browser: https://accounts.google.com/o/oauth2/auth?client_id=947318989803-6bn6qk8qdgf4n4g3pfee6491hc0brc4i.apps.googleusercontent.com&redirect_uri=urn%3Aietf%3Awg%3Aoauth%3A2.0%3Aoob&scope=email%20https%3A%2F%2Fwww.googleapis.com%2Fauth%2Fdocs.test%20https%3A%2F%2Fwww.googleapis.com%2Fauth%2Fdrive%20https%3A%2F%2Fwww.googleapis.com%2Fauth%2Fdrive.photos.readonly%20https%3A%2F%2Fwww.googleapis.com%2Fauth%2Fpeopleapi.readonly&response_type=code\n",
            "\n",
            "Enter your authorization code:\n",
            "··········\n",
            "Mounted at /content/gdrive\n"
          ],
          "name": "stdout"
        }
      ]
    },
    {
      "metadata": {
        "id": "9ptPlAv9OAS6",
        "colab_type": "text"
      },
      "cell_type": "markdown",
      "source": [
        "create training data"
      ]
    },
    {
      "metadata": {
        "id": "HebH2EhON5ua",
        "colab_type": "code",
        "colab": {}
      },
      "cell_type": "code",
      "source": [
        "#my_path = '/content/gdrive/My Drive/cleaned_data.zip (Unzipped Files)/drive-download-20181211t234626z-001.zip (Unzipped Files)'\n",
        "train_bounding_box = np.load('/content/gdrive/My Drive/train_data.npy')\n",
        "training_image = np.load('/content/gdrive/My Drive/copy_train_imgs.npy')\n",
        "train_class = train_bounding_box[:,4]\n",
        "\n",
        "#load augmented data\n",
        "aug_images = np.load('/content/gdrive/My Drive/augmented_image.npy')\n",
        "aug_class = np.zeros((aug_images.shape[0],))\n",
        "aug_box = np.load('/content/gdrive/My Drive/augmented_boxes.npy')\n",
        "\n",
        "\n",
        "#convert \n",
        "stacked_training_box = np.vstack((train_bounding_box[:,:4],aug_box))\n",
        "train_x = np.reshape(np.sum((stacked_training_box[:,0] , .5 * stacked_training_box[:,3]),axis=0),(-1,1))\n",
        "train_y = np.reshape(np.sum((stacked_training_box[:,1] , .5 * stacked_training_box[:,2]),axis=0),(-1,1))\n",
        "train_bounding_box = np.hstack((train_x,train_y,stacked_training_box[:,2:]))\n",
        "train_class = np.concatenate((train_class,aug_class),axis=0)\n",
        "training_image = np.vstack((training_image,aug_images))\n"
      ],
      "execution_count": 0,
      "outputs": []
    },
    {
      "metadata": {
        "id": "IROVzauzxSr8",
        "colab_type": "text"
      },
      "cell_type": "markdown",
      "source": [
        "paths to the files"
      ]
    },
    {
      "metadata": {
        "id": "GzRx0HCPgVz9",
        "colab_type": "code",
        "colab": {}
      },
      "cell_type": "code",
      "source": [
        "my_path = '/content/gdrive/My Drive/cleaned_data.zip (Unzipped Files)/drive-download-20181211t234626z-001.zip (Unzipped Files)'\n",
        "train_bounding_box = np.load(my_path + '/train_data.npy')\n",
        "training_image = np.load('/content/gdrive/My Drive/train_imgs.npy')\n",
        "train_class = train_bounding_box[:,4]\n",
        "\n",
        "#load augmented data\n",
        "aug_images = np.load('/content/gdrive/My Drive/augmented_image.npy')\n",
        "aug_class = np.zeros((aug_images.shape[0],))\n",
        "aug_box = np.load('/content/gdrive/My Drive/augmented_boxes.npy')\n",
        "\n",
        "\n",
        "#convert \n",
        "stacked_training_box = np.vstack((train_bounding_box[:,:4],aug_box))\n",
        "train_x = np.reshape(np.sum((stacked_training_box[:,0] , .5 * stacked_training_box[:,3]),axis=0),(-1,1))\n",
        "train_y = np.reshape(np.sum((stacked_training_box[:,1] , .5 * stacked_training_box[:,2]),axis=0),(-1,1))\n",
        "train_bounding_box = np.hstack((train_x,train_y,stacked_training_box[:,2:]))\n",
        "train_class = np.concatenate((train_class,aug_class),axis=0)\n",
        "training_image = np.vstack((training_image,aug_images))\n"
      ],
      "execution_count": 0,
      "outputs": []
    },
    {
      "metadata": {
        "id": "jOJy0IBm0rQ_",
        "colab_type": "text"
      },
      "cell_type": "markdown",
      "source": [
        ""
      ]
    },
    {
      "metadata": {
        "id": "hivlIbUNZmhN",
        "colab_type": "code",
        "outputId": "36e50eee-b614-4c5b-e392-b48b9b068e78",
        "colab": {
          "base_uri": "https://localhost:8080/",
          "height": 35
        }
      },
      "cell_type": "code",
      "source": [
        "#define training model here\n",
        "# -*- coding:utf-8 -*-\n",
        "'''  \n",
        "#====#====#====#====\n",
        "# Originally implemented by DuFanXin and modified by Ken Hayashima \n",
        "# Original implementation is found at https://github.com/DuFanXin/U-net/blob/master/Unet/unet-Keras.py\n",
        "#====#====#====#==== \n",
        "'''\n",
        "from keras.callbacks import ModelCheckpoint, EarlyStopping, TensorBoard\n",
        "from keras.layers import concatenate, Conv2D, MaxPooling2D, UpSampling2D, Dropout, Flatten, Dense, Softmax,BatchNormalization,Activation\n",
        "from keras.models import *\n",
        "from keras.optimizers import *\n",
        "from keras.utils import to_categorical\n",
        "import keras.backend as K\n",
        "\n",
        "class myUnet(object):\n",
        "    def __init__(self, img_rows=256, img_cols=256):\n",
        "        self.img_rows = img_rows\n",
        "        self.img_cols = img_cols\n",
        "\n",
        "    def get_body(self,pretrained_weights=None):\n",
        "        inputs = Input(shape=(256, 256, 3),name = 'input')\n",
        "        print(inputs.shape)\n",
        "        conv1 = Conv2D(16, 3, padding='same', kernel_initializer='he_normal',name='conv1_1')(inputs)\n",
        "        conv1 = BatchNormalization()(conv1)\n",
        "        conv1 = Activation(activation='relu')(conv1)\n",
        "        pool1 = MaxPooling2D(pool_size=(2, 2))(conv1)\n",
        "        conv2 = Conv2D(32, 3, padding='same', kernel_initializer='he_normal',name='conv2_1')(pool1)\n",
        "        conv2 = BatchNormalization()(conv2)\n",
        "        conv2 = Activation(activation='relu')(conv2)\n",
        "        pool2 = MaxPooling2D(pool_size=(2, 2))(conv2)\n",
        "        conv3 = Conv2D(64, 3, padding='same', kernel_initializer='he_normal',name='conv3_1')(pool2)\n",
        "        conv3 = BatchNormalization()(conv3)\n",
        "        conv3 = Activation(activation='relu')(conv3)\n",
        "        pool3 = MaxPooling2D(pool_size=(2, 2))(conv3)\n",
        "        conv4 = Conv2D(128, 3, padding='same', kernel_initializer='he_normal',name='conv4_1')(pool3)\n",
        "        conv4 = Conv2D(128, 3, padding='same', kernel_initializer='he_normal',name='conv4_2')(conv4)\n",
        "        conv4 = BatchNormalization()(conv4)\n",
        "        conv4 = Activation(activation='relu')(conv4)\n",
        "        drop4 = Dropout(0.5)(conv4)\n",
        "        pool4 = MaxPooling2D(pool_size=(2, 2))(drop4)\n",
        "\n",
        "        conv5 = Conv2D(256, 3, padding='same', kernel_initializer='he_normal',name='conv5_1')(pool4)\n",
        "        conv5 = BatchNormalization()(conv5)\n",
        "        conv5 = Activation(activation='relu')(conv5)\n",
        "        drop5 = Dropout(0.5)(conv5)\n",
        "        up6 = Conv2D(128, 2, padding='same', kernel_initializer='he_normal',name='up6')(UpSampling2D(size=(2, 2))(drop5))\n",
        "        up6 = BatchNormalization()(up6)\n",
        "        up6 = Activation(activation='relu')(up6)\n",
        "        merge6 = concatenate([drop4, up6], axis=3)\n",
        "\n",
        "        conv6 = Conv2D(128, 3, padding='same', kernel_initializer='he_normal',name='conv6_1')(merge6)\n",
        "        conv6 = BatchNormalization()(conv6)\n",
        "        conv6 = Activation(activation='relu')(conv6)\n",
        "        up7 = Conv2D(64, 2, padding='same', kernel_initializer='he_normal',name='up7')( UpSampling2D(size=(2, 2))(conv6))\n",
        "        up7 = BatchNormalization()(up7)\n",
        "        up7 = Activation(activation='relu')(up7)\n",
        "        merge7 = concatenate([conv3, up7], axis=3)\n",
        "        conv7 = Conv2D(64, 3, padding='same', kernel_initializer='he_normal',name='conv7_1')(merge7)\n",
        "        conv7 = BatchNormalization()(conv7)\n",
        "        conv7 = Activation(activation='relu')(conv7)\n",
        "        up8 = Conv2D(32, 2, padding='same', kernel_initializer='he_normal',name='up8')( UpSampling2D(size=(2, 2))(conv7))\n",
        "        up8 = BatchNormalization()(up8)\n",
        "        up8 = Activation(activation='relu')(up8)\n",
        "        merge8 = concatenate([conv2, up8], axis=3) \n",
        "        conv8 = Conv2D(32, 3, padding='same', kernel_initializer='he_normal',name='conv8_1')(merge8)\n",
        "        conv8 = BatchNormalization()(conv8)\n",
        "        conv8 = Activation(activation='relu')(conv8)\n",
        "        up9 = Conv2D(16, 2, padding='same', kernel_initializer='he_normal',name='up9')( UpSampling2D(size=(2, 2))(conv8))\n",
        "        up9 = BatchNormalization()(up9)\n",
        "        up9 = Activation(activation='relu')(up9)\n",
        "        merge9 = concatenate([conv1, up9], axis=3)\n",
        "        conv9 = Conv2D(16, 3, padding='same', kernel_initializer='he_normal',name='conv9_1')(merge9)\n",
        "        conv9 = BatchNormalization()(conv9)\n",
        "        conv9 = Activation(activation='relu')(conv9)\n",
        "        conv9 = Conv2D(2, 3, padding='same', kernel_initializer='he_normal',name='conv9_3')(conv9)\n",
        "        conv9 = BatchNormalization()(conv9)\n",
        "        conv9 = Activation(activation='relu')(conv9)\n",
        "        dense1 = Flatten()(conv9)\n",
        "        out_class = Dense(1,activation='sigmoid',name='dense_class')(dense1)\n",
        "        \n",
        "        print(out_class.shape)\n",
        "        \n",
        "        model = Model(inputs=inputs,outputs=out_class)\n",
        "        if pretrained_weights != None:\n",
        "            model.load_weights(pretrained_weights,by_name = True)\n",
        "        model.compile(optimizer=Adam(lr=1e-4), loss=['binary_crossentropy'], metrics=['accuracy'])\n",
        "        print('model compile')\n",
        "        return model\n",
        "    def train(self,mode='already',img_paths = None,bounding_box_path = None,save_path=None,imgs_train_pre=None,imgs_mask_train_pre=None,pretrained_weights=None):\n",
        "        if mode == 'already': \n",
        "            imgs_train,imgs_mask_train = imgs_train_pre,imgs_mask_train_pre\n",
        "        else: \n",
        "            imgs_train, imgs_mask_train = load_training_data(save_path)\n",
        "        print(\"loading data done\")\n",
        "        model = self.get_body(pretrained_weights)\n",
        "        print(\"got unet\") \n",
        "        if save_path is None:\n",
        "          save_path = '.'\n",
        "        model_checkpoint = ModelCheckpoint(save_path + '/unet_10layers_classifiers.hdf5', monitor='loss', verbose=1, save_best_only=True)\n",
        "        print('Fitting model...')\n",
        "        history = model.fit(x=imgs_train, y=imgs_mask_train, validation_split=0.2, batch_size=64, epochs=30, verbose=1, shuffle=True, callbacks=[model_checkpoint])\n",
        "        return history"
      ],
      "execution_count": 4,
      "outputs": [
        {
          "output_type": "stream",
          "text": [
            "Using TensorFlow backend.\n"
          ],
          "name": "stderr"
        }
      ]
    },
    {
      "metadata": {
        "id": "EhkGdkunfmQO",
        "colab_type": "code",
        "colab": {}
      },
      "cell_type": "code",
      "source": [
        "ten_layer_classifier = myUnet()\n",
        "#history = ten_layer_classifier.train(imgs_train_pre=training_image/255,imgs_mask_train_pre=train_class)"
      ],
      "execution_count": 0,
      "outputs": []
    },
    {
      "metadata": {
        "id": "n7MASbMllajm",
        "colab_type": "code",
        "outputId": "11fe4025-6aa8-4a11-9272-df2a9085d6fc",
        "colab": {
          "base_uri": "https://localhost:8080/",
          "height": 753
        }
      },
      "cell_type": "code",
      "source": [
        "\n",
        "#plot accuracy\n",
        "plt.plot(history.history['acc'])\n",
        "plt.plot(history.history['val_acc'])\n",
        "plt.title('10 layers classification model accuracy')\n",
        "plt.ylabel('accuracy')\n",
        "plt.xlabel('epoch')\n",
        "plt.legend(['train', 'test'], loc='upper left')\n",
        "plt.show()\n",
        "plt.savefig('/content/gdrive/My Drive/10_layers_classifier_model_accuracy.png')\n",
        "\n",
        "#plot loss\n",
        "plt.plot(history.history['loss'])\n",
        "plt.plot(history.history['val_loss'])\n",
        "plt.title('10 layers classification model loss')\n",
        "plt.ylabel('loss')\n",
        "plt.xlabel('epoch')\n",
        "plt.legend(['train', 'val'], loc='upper left')\n",
        "plt.show()\n",
        "plt.savefig('/content/gdrive/My Drive/10_layers_classifier_model_loss.png')"
      ],
      "execution_count": 7,
      "outputs": [
        {
          "output_type": "display_data",
          "data": {
            "image/png": "[encoded data removed]",
            "text/plain": [
              "<matplotlib.figure.Figure at 0x7f48e3007ac8>"
            ]
          },
          "metadata": {
            "tags": []
          }
        },
        {
          "output_type": "display_data",
          "data": {
            "image/png": "[encoded data removed]",
            "text/plain": [
              "<matplotlib.figure.Figure at 0x7f48e2f43048>"
            ]
          },
          "metadata": {
            "tags": []
          }
        },
        {
          "output_type": "display_data",
          "data": {
            "text/plain": [
              "<matplotlib.figure.Figure at 0x7f48e2eaedd8>"
            ]
          },
          "metadata": {
            "tags": []
          }
        }
      ]
    },
    {
      "metadata": {
        "id": "XU-9xQRlwDQZ",
        "colab_type": "code",
        "outputId": "c04c3e87-180c-4646-800a-cb27a4bc4dbd",
        "colab": {
          "base_uri": "https://localhost:8080/",
          "height": 512
        }
      },
      "cell_type": "code",
      "source": [
        "# validation on test\n",
        "test_image = np.load('/content/gdrive/My Drive/test_imgs.npy')\n",
        "model = ten_layer_classifier.get_body()\n",
        "model.load_weights('/content/gdrive/My Drive/unet_10layers_classifiers.hdf5')\n",
        "test_scores = model.predict(test_image/256, batch_size=16, verbose=1)\n",
        "test_label = np.load('/content/gdrive/My Drive/test_data.npy')"
      ],
      "execution_count": 7,
      "outputs": [
        {
          "output_type": "stream",
          "text": [
            "(?, 256, 256, 16)\n",
            "(?, 256, 256, 16)\n",
            "(?, 128, 128, 16)\n",
            "\n",
            "\n",
            "(?, 128, 128, 32)\n",
            "(?, 64, 64, 32)\n",
            "\n",
            "\n",
            "(?, 64, 64, 64)\n",
            "(?, 32, 32, 64)\n",
            "\n",
            "\n",
            "(?, 32, 32, 128)\n",
            "(?, 16, 16, 128)\n",
            "\n",
            "\n",
            "(?, 16, 16, 256)\n",
            "\n",
            "\n",
            "(?, 32, 32, 128)\n",
            "(?, 32, 32, 128)\n",
            "merge: \n",
            "(?, 32, 32, 256)\n",
            "(?, 1)\n",
            "model compile\n",
            "288/288 [==============================] - 6s 20ms/step\n"
          ],
          "name": "stdout"
        }
      ]
    },
    {
      "metadata": {
        "id": "cnvX7JyQxoHj",
        "colab_type": "code",
        "colab": {}
      },
      "cell_type": "code",
      "source": [
        "test_label = test_label[:,4]\n",
        "test_fpr,test_tpr,_ = roc_curve(test_label,test_scores)\n",
        "test_scores[test_scores<.5] = 0 \n",
        "test_scores[test_scores >= .5] = 1 "
      ],
      "execution_count": 0,
      "outputs": []
    },
    {
      "metadata": {
        "id": "pzXoBIQxyYo2",
        "colab_type": "code",
        "outputId": "bec63379-9b33-4723-be4b-4a442dd0b037",
        "colab": {
          "base_uri": "https://localhost:8080/",
          "height": 72
        }
      },
      "cell_type": "code",
      "source": [
        "from sklearn.metrics import f1_score,precision_score,recall_score,accuracy_score\n",
        "print(f1_score(test_label,test_scores))\n",
        "print(precision_score(test_label,test_scores))\n",
        "print(recall_score(test_label,test_scores))\n"
      ],
      "execution_count": 14,
      "outputs": [
        {
          "output_type": "stream",
          "text": [
            "0.9493670886075949\n",
            "0.9453781512605042\n",
            "0.9533898305084746\n"
          ],
          "name": "stdout"
        }
      ]
    }
  ]
}