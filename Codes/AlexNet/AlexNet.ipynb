{
  "nbformat": 4,
  "nbformat_minor": 0,
  "metadata": {
    "colab": {
      "name": "AlexNet.ipynb",
      "version": "0.3.2",
      "provenance": [],
      "collapsed_sections": [],
      "toc_visible": true
    },
    "kernelspec": {
      "name": "python3",
      "display_name": "Python 3"
    },
    "accelerator": "GPU"
  },
  "cells": [
    {
      "metadata": {
        "id": "qzw77fryBjL0",
        "colab_type": "code",
        "outputId": "9bb2a27f-fcff-465e-83d1-6ce28281352e",
        "colab": {
          "base_uri": "https://localhost:8080/",
          "height": 129
        }
      },
      "cell_type": "code",
      "source": [
        "\n",
        "import tensorflow as tf\n",
        "import matplotlib.pyplot as plt\n",
        "import numpy as np\n",
        "import pickle\n",
        "\n",
        "from google.colab import drive\n",
        "drive.mount('/content/drive/')\n"
      ],
      "execution_count": 3,
      "outputs": [
        {
          "output_type": "stream",
          "text": [
            "Go to this URL in a browser: https://accounts.google.com/o/oauth2/auth?client_id=947318989803-6bn6qk8qdgf4n4g3pfee6491hc0brc4i.apps.googleusercontent.com&redirect_uri=urn%3Aietf%3Awg%3Aoauth%3A2.0%3Aoob&scope=email%20https%3A%2F%2Fwww.googleapis.com%2Fauth%2Fdocs.test%20https%3A%2F%2Fwww.googleapis.com%2Fauth%2Fdrive%20https%3A%2F%2Fwww.googleapis.com%2Fauth%2Fdrive.photos.readonly%20https%3A%2F%2Fwww.googleapis.com%2Fauth%2Fpeopleapi.readonly&response_type=code\n",
            "\n",
            "Enter your authorization code:\n",
            "··········\n",
            "Mounted at /content/drive/\n"
          ],
          "name": "stdout"
        }
      ]
    },
    {
      "metadata": {
        "id": "bDqBcKpyBvCe",
        "colab_type": "code",
        "outputId": "7eafa4ac-af92-4185-a05b-26fb2ac9861d",
        "colab": {
          "base_uri": "https://localhost:8080/",
          "height": 35
        }
      },
      "cell_type": "code",
      "source": [
        "# allocate memory for data and labels\n",
        "x = tf.placeholder(tf.float32, [None, 256, 256, 3])\n",
        "y = tf.placeholder(tf.int32, [None])\n",
        "training = tf.placeholder(tf.bool)\n",
        "\n",
        "# Check to make sure GPU is being used\n",
        "device_name = tf.test.gpu_device_name()\n",
        "if device_name != '/device:GPU:0':\n",
        "  raise SystemError('GPU device not found')\n",
        "print('Found GPU at: {}'.format(device_name))\n",
        "\n",
        "#Add config to allow GPU memory growth\n",
        "config = tf.ConfigProto()\n",
        "config.gpu_options.allow_growth = True\n",
        "\n"
      ],
      "execution_count": 4,
      "outputs": [
        {
          "output_type": "stream",
          "text": [
            "Found GPU at: /device:GPU:0\n"
          ],
          "name": "stdout"
        }
      ]
    },
    {
      "metadata": {
        "id": "WZQR_HBHH6FX",
        "colab_type": "text"
      },
      "cell_type": "markdown",
      "source": [
        "# Part 0 : Load Data"
      ]
    },
    {
      "metadata": {
        "id": "4nghjYfKGDXZ",
        "colab_type": "code",
        "colab": {}
      },
      "cell_type": "code",
      "source": [
        "def normalize(imgs):\n",
        "  imgs = imgs/255.0\n",
        "  imgs = 2*(imgs - 0.5)\n",
        "  return imgs"
      ],
      "execution_count": 0,
      "outputs": []
    },
    {
      "metadata": {
        "id": "B_F3JkBMH9Rh",
        "colab_type": "code",
        "colab": {}
      },
      "cell_type": "code",
      "source": [
        "# # Load the data\n",
        "# def load_bboxes(filepath):\n",
        "#   return np.loadtxt(filepath, delimiter=',', dtype=np.int32)\n",
        "\n",
        "\n",
        "# # Load BBox\n",
        "# bbox_filepath = 'drive/My Drive/BE537/regions_bbox.csv'\n",
        "# bboxes = load_bboxes(bbox_filepath)\n",
        "\n",
        "# # Load and Save Images as Npy\n",
        "# train_data = load_imgs(np.arange(int(np.floor(0.8*bboxes.shape[0]))))\n",
        "# test_data = load_imgs(np.arange(int(np.floor(0.8*bboxes.shape[0])), bboxes.shape[0]))\n",
        "# save_dir = 'gdrive/My Drive/BE537/'\n",
        "# np.save(save_dir + 'train_imgs.npy', train_data)\n",
        "# np.save(save_dir + 'test_imgs.npy', test_data)\n",
        "\n",
        "# use generated train/test data\n",
        "# Get data\n",
        "train_data = np.load('drive/My Drive/BE537/train_data.npy')\n",
        "test_data = np.load('drive/My Drive/BE537/test_data.npy')\n",
        "#test_data = np.load('drive/My Drive/BE537 Irwin/Augmented Tangles/augmented_boxes_tangles.npy')\n",
        "\n",
        "train_imgs = np.load('drive/My Drive/BE537/train_imgs.npy')\n",
        "test_imgs = np.load('drive/My Drive/BE537/test_imgs.npy')\n",
        "\n",
        "# Separate data and labels\n",
        "train_labels = train_data[:, 4].astype(np.int32)\n",
        "# train_bbox = train_data[:,0:4]\n",
        "\n",
        "test_labels = test_data[:, 4].astype(np.int32)\n",
        "# test_bbox = test_data[:, 0:4]\n",
        "\n",
        "# # one hot encode labels\n",
        "# n_values = np.max(train_labels_pre) + 1\n",
        "# train_labels = np.eye(n_values)[train_labels_pre]\n",
        "# test_labels = np.eye(n_values)[test_labels_pre]\n"
      ],
      "execution_count": 0,
      "outputs": []
    },
    {
      "metadata": {
        "id": "KoAPeBdxWUd_",
        "colab_type": "code",
        "outputId": "862129b5-0510-43cb-811c-c3cf8deb299b",
        "colab": {
          "base_uri": "https://localhost:8080/",
          "height": 35
        }
      },
      "cell_type": "code",
      "source": [
        "print(train_labels.shape)"
      ],
      "execution_count": 0,
      "outputs": [
        {
          "output_type": "stream",
          "text": [
            "(1152,)\n"
          ],
          "name": "stdout"
        }
      ]
    },
    {
      "metadata": {
        "id": "gMYBb1RoCPab",
        "colab_type": "text"
      },
      "cell_type": "markdown",
      "source": [
        "# Part 1: Train Model"
      ]
    },
    {
      "metadata": {
        "id": "IOHwhkwjCRCQ",
        "colab_type": "text"
      },
      "cell_type": "markdown",
      "source": [
        "Train the AlexNet: \n",
        "\n",
        "*   5 Convolutional Layers\n",
        "*   Batch Normalization after conv1, conv2\n",
        "*   Pooling after conv1, conv2, conv5\n",
        "*   Dropout before fc1, fc2\n",
        "*   3 FC layers\n",
        "\n",
        "\n",
        "\n",
        "\n",
        "\n"
      ]
    },
    {
      "metadata": {
        "id": "gX_ymg49UnE4",
        "colab_type": "code",
        "outputId": "c553d369-b05b-4193-c62d-c3d929de63b0",
        "colab": {
          "base_uri": "https://localhost:8080/",
          "height": 35
        }
      },
      "cell_type": "code",
      "source": [
        "# Check to make sure GPU is being used\n",
        "device_name = tf.test.gpu_device_name()\n",
        "if device_name != '/device:GPU:0':\n",
        "  raise SystemError('GPU device not found')\n",
        "print('Found GPU at: {}'.format(device_name))\n",
        "\n",
        "#Add config to allow GPU memory growth\n",
        "config = tf.ConfigProto()\n",
        "config.gpu_options.allow_growth = True\n",
        "\n",
        "#set constraints on training\n",
        "batch_size = 64\n",
        "iterations = 300\n",
        "lr = .003"
      ],
      "execution_count": 40,
      "outputs": [
        {
          "output_type": "stream",
          "text": [
            "Found GPU at: /device:GPU:0\n"
          ],
          "name": "stdout"
        }
      ]
    },
    {
      "metadata": {
        "id": "RjQ9c8vLCLwp",
        "colab_type": "code",
        "outputId": "49ab771e-105a-47b6-939b-cb09b389b9ed",
        "colab": {
          "base_uri": "https://localhost:8080/",
          "height": 220
        }
      },
      "cell_type": "code",
      "source": [
        "# reset graph between runs\n",
        "tf.reset_default_graph()\n",
        "\n",
        "\n",
        "# allocate memory for data and labels\n",
        "x = tf.placeholder(tf.float32, [None, 256, 256, 3])\n",
        "y = tf.placeholder(tf.int32, [None])\n",
        "training = tf.placeholder(tf.bool)\n",
        "\n",
        "  \n",
        "# Conv Layer 1\n",
        "conv1 = tf.layers.conv2d(\n",
        "    inputs=x,\n",
        "    filters=32,\n",
        "    kernel_size=[5, 5],\n",
        "    kernel_initializer = tf.initializers.truncated_normal(\n",
        "      mean =  0.0,\n",
        "      stddev = 0.1    \n",
        "    ),    \n",
        "    strides=1,\n",
        "    padding='SAME',\n",
        "    name='conv1'\n",
        ")\n",
        "print(\"Conv1: \", conv1.shape)\n",
        "\n",
        "# Normalization 1\n",
        "bn1 = tf.layers.batch_normalization(conv1, training=training, name='bn1')\n",
        "relu1 = tf.nn.relu(bn1, name='relu1')\n",
        "\n",
        "# Average Pooling 1\n",
        "pool1 = tf.nn.avg_pool(\n",
        "    value=relu1,\n",
        "    ksize=[1, 2, 2, 1],\n",
        "    strides=[1, 2, 2, 1],\n",
        "    padding='VALID',\n",
        "    name='pool1'\n",
        ")  \n",
        "\n",
        "# Conv Layer 2\n",
        "conv2 = tf.layers.conv2d(\n",
        "    inputs=pool1,\n",
        "    filters=32,\n",
        "    kernel_size=[5, 5],\n",
        "    kernel_initializer = tf.initializers.truncated_normal(\n",
        "      mean =  0.0,\n",
        "      stddev = 0.1    \n",
        "    ),\n",
        "    strides=1,\n",
        "    padding='SAME',\n",
        "    name='conv2'\n",
        ")\n",
        "print(\"Conv2: \", conv2.shape)\n",
        "\n",
        "bn2 = tf.layers.batch_normalization(conv2, training=training, name='bn2')\n",
        "relu2 = tf.nn.relu(bn2, name='relu2')\n",
        "\n",
        "# Average Pooling 2\n",
        "pool2 = tf.nn.avg_pool(\n",
        "    value=relu2,\n",
        "    ksize=[1, 2, 2, 1],\n",
        "    strides=[1, 2, 2, 1],\n",
        "    padding='VALID',\n",
        "    name='pool2'\n",
        ")\n",
        "\n",
        "# Conv Layer 3\n",
        "conv3 = tf.layers.conv2d(\n",
        "    inputs=pool2,\n",
        "    filters=64,\n",
        "    kernel_size=[5, 5],\n",
        "    kernel_initializer = tf.initializers.truncated_normal(\n",
        "      mean =  0.0,\n",
        "      stddev = 0.1\n",
        "    ),\n",
        "    strides=1,\n",
        "    padding='SAME',\n",
        "    name='conv3'\n",
        ")\n",
        "print(\"Conv3: \", conv3.shape)\n",
        "\n",
        "relu3 = tf.nn.relu(conv3, name = 'relu2')\n",
        "\n",
        "# Conv Layer 4\n",
        "conv4 = tf.layers.conv2d(\n",
        "    inputs=relu3,\n",
        "    filters=32,\n",
        "    kernel_size=[5, 5],\n",
        "    kernel_initializer = tf.initializers.truncated_normal(\n",
        "      mean =  0.0,\n",
        "      stddev = 0.1\n",
        "    ),    \n",
        "    strides=1,\n",
        "    padding='SAME',\n",
        "    name='conv4'\n",
        ")\n",
        "print(\"Conv4: \", conv4.shape)\n",
        "\n",
        "relu4 = tf.nn.relu(conv4)\n",
        "\n",
        "# Conv Layer 5\n",
        "conv5 = tf.layers.conv2d(\n",
        "    inputs=relu4,\n",
        "    filters=32,\n",
        "    kernel_size=[5, 5],\n",
        "    kernel_initializer = tf.initializers.truncated_normal(\n",
        "      mean =  0.0,\n",
        "      stddev = 0.1    \n",
        "    ),   \n",
        "    strides=1,\n",
        "    padding='SAME',\n",
        "    name='conv5'\n",
        ")\n",
        "print(\"Conv5: \", conv5.shape)\n",
        "\n",
        "relu5 = tf.nn.relu(conv5)\n",
        "# Average pooling 5\n",
        "pool5 = tf.nn.avg_pool(\n",
        "    value=relu5,\n",
        "    ksize=[1, 2, 2, 1],\n",
        "    strides=[1, 2, 2, 1],\n",
        "    padding='SAME',\n",
        "    name='pool5'\n",
        ")\n",
        "\n",
        "pool5_reshape = tf.reshape (pool5, [-1, pool5.shape[1]*pool5.shape[2]* pool5.shape[3]])\n",
        "# Dropout 1\n",
        "drop1 = tf.nn.dropout(\n",
        "        pool5_reshape,\n",
        "        keep_prob = .5, #Probability of being kept\n",
        "        noise_shape = None,\n",
        "        seed = None,\n",
        "        name  = 'drop1'\n",
        "        )\n",
        "\n",
        "# Fully Connected 1\n",
        "fc1 = tf.layers.dense(\n",
        "    inputs= drop1,\n",
        "    units=64,\n",
        "    kernel_initializer = tf.initializers.truncated_normal(\n",
        "      mean =  0.0,\n",
        "      stddev = 0.1    \n",
        "    ),    \n",
        "    name='fc1'\n",
        ")\n",
        "print(\"FC1: \", fc1.shape)\n",
        "\n",
        "\n",
        "relu_fc1 = tf.nn.relu(fc1, name='relu_fc1')\n",
        "\n",
        "# Dropout 2\n",
        "drop2 = tf.nn.dropout(\n",
        "    relu_fc1,\n",
        "    keep_prob = .5, #Probability of being kept\n",
        "    noise_shape = None,\n",
        "    seed = None,\n",
        "    name  = 'drop2'\n",
        "    )\n",
        "\n",
        "# Fully Connected 2\n",
        "fc2 = tf.layers.dense(\n",
        "    inputs=drop2,\n",
        "    units=10, # change as u will\n",
        "    kernel_initializer = tf.initializers.truncated_normal(\n",
        "      mean =  0.0,\n",
        "      stddev = 0.1    \n",
        "    ),    \n",
        "    name='fc2'\n",
        ")\n",
        "print(\"FC2: \", fc2.shape)\n",
        "\n",
        "relu_fc2 = tf.nn.relu(fc2, name = 'relu_fc2')\n",
        "\n",
        "# Fully Connected 3\n",
        "logits = tf.layers.dense(\n",
        "    inputs=relu_fc2,\n",
        "    kernel_initializer = tf.initializers.truncated_normal(\n",
        "      mean =  0.0,\n",
        "      stddev = 0.1    \n",
        "    ),    \n",
        "    units=2,\n",
        "    name='fc3'\n",
        ")\n",
        "print(\"FC3: \", logits.shape)\n",
        "\n",
        "# Calculate loss\n",
        "loss = tf.reduce_mean(\n",
        "    tf.nn.softmax_cross_entropy_with_logits_v2(\n",
        "    labels=tf.one_hot(y, 2),\n",
        "    logits=logits,\n",
        "    name='loss'\n",
        "))\n",
        "\n",
        "# Calculate accuracy\n",
        "# Note reused code from for accuracy from https://github.com/jyhjinghwang/CIS680_2017Fall/blob/master/demo/cifar10/models.py\n",
        "predictions = tf.argmax(tf.nn.softmax(logits), 1, output_type=tf.int32)\n",
        "accuracy = tf.reduce_mean(tf.cast(tf.equal(predictions, y), tf.float32), name='accuracy')\n",
        "\n",
        "\n",
        "# Get F-1/precision/recall\n",
        "TP = tf.count_nonzero(predictions * y)\n",
        "TN = tf.count_nonzero((predictions - 1) * (y - 1))\n",
        "FP = tf.count_nonzero(predictions * (y - 1))\n",
        "FN = tf.count_nonzero((predictions - 1) *  y)\n",
        "\n",
        "precision = tf.cast(TP / (TP + FP), tf.float32)\n",
        "recall = tf.cast(TP / (TP + FN), tf.float32)\n",
        "f1 = tf.cast(2 * precision * recall / (precision + recall), tf.float32)\n",
        "\n",
        "# Optimization\n",
        "update_ops = tf.get_collection(tf.GraphKeys.UPDATE_OPS)\n",
        "with tf.control_dependencies(update_ops):\n",
        "  opt = tf.train.AdamOptimizer(lr).minimize(loss)\n",
        "\n",
        "\n",
        "with tf.Session(config=config) as sess:\n",
        "  sess.run(tf.global_variables_initializer())\n",
        "  training_accuracy = np.zeros([iterations])\n",
        "  training_loss = np.zeros([iterations])\n",
        "  test_accuracy = np.zeros([iterations])\n",
        "  for iteration in range(iterations):\n",
        "    if iteration % 100 == 0:\n",
        "      print(iteration)\n",
        "    permutation=np.random.permutation(train_data.shape[0])\n",
        "    permutation=permutation[0:batch_size]\n",
        "    batch_data = train_imgs[permutation, :, : ,:]\n",
        "    batch_labels = train_labels[permutation]\n",
        "    loss_val, _ = sess.run(\n",
        "        [loss, opt], \n",
        "        feed_dict={\n",
        "            x: batch_data,\n",
        "            y: batch_labels,\n",
        "            training: True\n",
        "        })\n",
        "    training_loss[iteration] = loss_val\n",
        "    training_accuracy[iteration] = accuracy.eval(\n",
        "        feed_dict={\n",
        "            x: batch_data,\n",
        "            y: batch_labels,\n",
        "            training: False\n",
        "        }\n",
        "    )\n",
        "    test_accuracy[iteration] = accuracy.eval(\n",
        "        feed_dict={\n",
        "              x: test_imgs,\n",
        "              y: test_labels,\n",
        "              training: False\n",
        "          }\n",
        "    )\n",
        "  F1 = f1.eval(\n",
        "      feed_dict={\n",
        "          x: test_imgs, \n",
        "          y: test_labels, \n",
        "          training:False\n",
        "      }\n",
        "  )\n",
        "  Recall = recall.eval(\n",
        "      feed_dict={\n",
        "          x: test_imgs, \n",
        "          y: test_labels, \n",
        "          training:False\n",
        "      }\n",
        "  )\n",
        "  Precision = precision.eval(\n",
        "      feed_dict={\n",
        "          x: test_imgs, \n",
        "          y: test_labels, \n",
        "          training:False\n",
        "      }\n",
        "  )\n",
        "  \n",
        "  # Display results\n",
        "  plt.plot(training_accuracy)\n",
        "  plt.title(\"Accuracy\")\n",
        "  plt.xlabel(\"Iterations\")\n",
        "  plt.ylabel(\"accuracy\")\n",
        "  plt.show()\n",
        "  \n",
        "  plt.plot( training_loss)\n",
        "  plt.title(\" Training Loss\")\n",
        "  plt.xlabel(\"Iterations\")\n",
        "  plt.ylabel(\"Training loss\")\n",
        "  plt.show()\n",
        "  \n",
        "  print(\"F1 score: \", F1)\n",
        "  print(\"Precision: \", Precision)\n",
        "  print(\"Recall: \", Recall)\n"
      ],
      "execution_count": 0,
      "outputs": [
        {
          "output_type": "stream",
          "text": [
            "Conv1:  (?, 256, 256, 32)\n",
            "Conv2:  (?, 128, 128, 32)\n",
            "Conv3:  (?, 64, 64, 64)\n",
            "Conv4:  (?, 64, 64, 32)\n",
            "Conv5:  (?, 64, 64, 32)\n",
            "FC1:  (?, 64)\n",
            "FC2:  (?, 10)\n",
            "FC3:  (?, 2)\n",
            "0\n",
            "100\n",
            "200\n"
          ],
          "name": "stdout"
        }
      ]
    },
    {
      "metadata": {
        "id": "jYTflqDuhgs8",
        "colab_type": "code",
        "colab": {
          "base_uri": "https://localhost:8080/",
          "height": 35
        },
        "outputId": "90e16fad-3980-4e42-a8a8-0ce2a40eae51"
      },
      "cell_type": "code",
      "source": [
        "print(test_accuracy[iterations-1])"
      ],
      "execution_count": 39,
      "outputs": [
        {
          "output_type": "stream",
          "text": [
            "0.6111111044883728\n"
          ],
          "name": "stdout"
        }
      ]
    },
    {
      "metadata": {
        "id": "1w-QRJu-c3Xr",
        "colab_type": "code",
        "colab": {
          "base_uri": "https://localhost:8080/",
          "height": 376
        },
        "outputId": "b36bdc17-f1c9-45a0-a574-f77edc54178b"
      },
      "cell_type": "code",
      "source": [
        "# plt.plot(range(1,iterations+1), training_accuracy, range(1,iterations+1), test_accuracy)\n",
        "fig = plt.figure()\n",
        "plt.plot(training_accuracy, label='Training Accuracy')\n",
        "plt.plot(test_accuracy, label='Test Accuracy')\n",
        "plt.title(\"Accuracy\")\n",
        "plt.xlabel(\"Iterations\")\n",
        "plt.ylabel(\"accuracy\")\n",
        "# plt.legend(['training', 'test'])\n",
        "plt.legend()\n",
        "plt.savefig('drive/My Drive/BE537 Irwin/AlexNet/training_test_accuracy_plot.png', dpi=300)\n",
        "plt.show()"
      ],
      "execution_count": 27,
      "outputs": [
        {
          "output_type": "display_data",
          "data": {
            "image/png": "[encoded data removed]",
            "text/plain": [
              "<matplotlib.figure.Figure at 0x7fe115cd59b0>"
            ]
          },
          "metadata": {
            "tags": []
          }
        }
      ]
    },
    {
      "metadata": {
        "id": "YvqW-DKMo2O0",
        "colab_type": "code",
        "colab": {}
      },
      "cell_type": "code",
      "source": [
        ""
      ],
      "execution_count": 0,
      "outputs": []
    },
    {
      "metadata": {
        "id": "3UL6UTluPyqf",
        "colab_type": "code",
        "colab": {}
      },
      "cell_type": "code",
      "source": [
        "# lr = .005, iterations = 1000, batch = 32, test accuracy = .81\n",
        "#   np.save('drive/My Drive/BE537 Irwin/AlexNet/train_acc_1', training_accuracy)\n",
        "#   np.save('drive/My Drive/BE537 Irwin/AlexNet/test_acc_1', test_accuracy)\n",
        "  \n",
        "# # lr = .003, iterations = 1000, batch = 32, higher test accuracy = .826\n",
        "#     np.save('drive/My Drive/BE537 Irwin/AlexNet/train_acc_2', training_accuracy)\n",
        "#     np.save('drive/My Drive/BE537 Irwin/AlexNet/test_acc_2', test_accuracy)\n",
        "#     np.save('drive/My Drive/BE537 Irwin/AlexNet/F1_2', F1)\n",
        "#     np.save('drive/My Drive/BE537 Irwin/AlexNet/Recall_2', Recall)\n",
        "#     np.save('drive/My Drive/BE537 Irwin/AlexNet/Precision_2', Precision)\n",
        "\n",
        "# lr = .0005, iterations = 500, batch = 32\n",
        "#   np.save('drive/My Drive/BE537 Irwin/AlexNet/train_acc_3', training_accuracy)\n",
        "#   np.save('drive/My Drive/BE537 Irwin/AlexNet/test_acc_3', test_accuracy)\n",
        "\n",
        "# lr = .0001, iterations = 500, batch = 32\n",
        "#  np.save('drive/My Drive/BE537 Irwin/AlexNet/train_acc_4', training_accuracy)\n",
        "#  np.save('drive/My Drive/BE537 Irwin/AlexNet/test_acc_4', test_accuracy)\n",
        "  \n",
        "# lr = .00005, iterations = 1000, batch = 64\n",
        "#  np.save('drive/My Drive/BE537 Irwin/AlexNet/train_acc_5', training_accuracy)\n",
        "#  np.save('drive/My Drive/BE537 Irwin/AlexNet/test_acc_5', test_accuracy)\n",
        "\n",
        "# lr = .002, iterations = 1000, batch = 64 \n",
        "#   np.save('drive/My Drive/BE537 Irwin/AlexNet/train_acc_6', training_accuracy)\n",
        "#   np.save('drive/My Drive/BE537 Irwin/AlexNet/test_acc_6', test_accuracy)\n",
        "\n",
        "# lr = .002, iterations = 1000, batch = 64 \n",
        "#   np.save('drive/My Drive/BE537 Irwin/AlexNet/train_acc_7', training_accuracy)\n",
        "#   np.save('drive/My Drive/BE537 Irwin/AlexNet/test_acc_7', test_accuracy)\n",
        "#   np.save('drive/My Drive/BE537 Irwin/AlexNet/F1_7', F1)\n",
        "#   np.save('drive/My Drive/BE537 Irwin/AlexNet/Recall_7', Recall)\n",
        "#   np.save('drive/My Drive/BE537 Irwin/AlexNet/Precision_7', Precision)\n"
      ],
      "execution_count": 0,
      "outputs": []
    },
    {
      "metadata": {
        "id": "m0oX8AULD39Y",
        "colab_type": "code",
        "outputId": "2b6491d9-e396-4908-dbe5-f94ff21f7bb4",
        "colab": {
          "base_uri": "https://localhost:8080/",
          "height": 54
        }
      },
      "cell_type": "code",
      "source": [
        "test_labels.shape"
      ],
      "execution_count": 0,
      "outputs": [
        {
          "output_type": "stream",
          "text": [
            "(?,)\n"
          ],
          "name": "stdout"
        },
        {
          "output_type": "execute_result",
          "data": {
            "text/plain": [
              "(288,)"
            ]
          },
          "metadata": {
            "tags": []
          },
          "execution_count": 45
        }
      ]
    },
    {
      "metadata": {
        "id": "o2zBFoPHBwJD",
        "colab_type": "text"
      },
      "cell_type": "markdown",
      "source": [
        "*italicized text*# Part 1: (Train Model)"
      ]
    }
  ]
}