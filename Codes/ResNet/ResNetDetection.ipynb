{
  "nbformat": 4,
  "nbformat_minor": 0,
  "metadata": {
    "colab": {
      "name": "ResNetDetection.ipynb",
      "version": "0.3.2",
      "provenance": [],
      "collapsed_sections": [],
      "toc_visible": true
    },
    "kernelspec": {
      "name": "python3",
      "display_name": "Python 3"
    },
    "accelerator": "GPU"
  },
  "cells": [
    {
      "metadata": {
        "id": "kNu4qTDptYfy",
        "colab_type": "code",
        "outputId": "3cf23122-b255-449b-b312-b6e2d80fed59",
        "colab": {
          "base_uri": "https://localhost:8080/",
          "height": 122
        }
      },
      "cell_type": "code",
      "source": [
        "!pip install imageio\n",
        "\n",
        "import imageio\n",
        "import os\n",
        "\n",
        "import numpy as np\n",
        "import matplotlib.pyplot as plt\n",
        "import tensorflow as tf\n",
        "from google.colab import drive\n",
        "\n",
        "# drive.mount('/content/gdrive')\n",
        "drive.mount('/content/gdrive')"
      ],
      "execution_count": 0,
      "outputs": [
        {
          "output_type": "stream",
          "text": [
            "Requirement already satisfied: imageio in /usr/local/lib/python3.6/dist-packages (2.4.1)\n",
            "Requirement already satisfied: numpy in /usr/local/lib/python3.6/dist-packages (from imageio) (1.14.6)\n",
            "Requirement already satisfied: pillow in /usr/local/lib/python3.6/dist-packages (from imageio) (4.0.0)\n",
            "Requirement already satisfied: olefile in /usr/local/lib/python3.6/dist-packages (from pillow->imageio) (0.46)\n",
            "Drive already mounted at /content/gdrive; to attempt to forcibly remount, call drive.mount(\"/content/gdrive\", force_remount=True).\n"
          ],
          "name": "stdout"
        }
      ]
    },
    {
      "metadata": {
        "id": "jsZIbgwRN_3h",
        "colab_type": "text"
      },
      "cell_type": "markdown",
      "source": [
        "# Utils"
      ]
    },
    {
      "metadata": {
        "id": "6fGfjGDU5j4i",
        "colab_type": "text"
      },
      "cell_type": "markdown",
      "source": [
        "Loading"
      ]
    },
    {
      "metadata": {
        "id": "4IH8M5y9vzCd",
        "colab_type": "code",
        "colab": {}
      },
      "cell_type": "code",
      "source": [
        "def load_bboxes(filepath):\n",
        "  return np.loadtxt(filepath, delimiter=',', dtype=np.int32)\n",
        "\n",
        "def load_imgs(indices):\n",
        "  dir_path = 'gdrive/My Drive/BE537/region_dir/'\n",
        "  imgs = np.zeros([ len(indices), 256, 256, 3])\n",
        "  for i in range(len(indices)):\n",
        "    filepath = dir_path + str(indices[i]).zfill(7) + '.png'\n",
        "    imgs[i, :, :, :] = imageio.imread(filepath).reshape([256, 256, 3])\n",
        "  return imgs"
      ],
      "execution_count": 0,
      "outputs": []
    },
    {
      "metadata": {
        "id": "YL1CICzv5n7T",
        "colab_type": "text"
      },
      "cell_type": "markdown",
      "source": [
        "Augmentation"
      ]
    },
    {
      "metadata": {
        "id": "VtTU07rn5p88",
        "colab_type": "code",
        "colab": {}
      },
      "cell_type": "code",
      "source": [
        "def normalize(imgs):\n",
        "  mu = np.zeros(imgs.shape)\n",
        "  mu[:, :, :, 0] = np.mean(imgs[:, :, :, 0])\n",
        "  mu[:, :, :, 1] = np.mean(imgs[:, :, :, 1])\n",
        "  mu[:, :, :, 2] = np.mean(imgs[:, :, :, 2])\n",
        "  \n",
        "  sigma = np.zeros(imgs.shape)\n",
        "  sigma[:, :, :, 0] = np.std(imgs[:, :, :, 0])\n",
        "  sigma[:, :, :, 1] = np.std(imgs[:, :, :, 1])\n",
        "  sigma[:, :, :, 2] = np.std(imgs[:, :, :, 2])\n",
        "  \n",
        "  normalized = np.divide(imgs - mu, sigma)\n",
        "  return normalized\n",
        "\n",
        "def flip_images(imgs):\n",
        "  probability = 0.5\n",
        "  n = imgs.shape[0]\n",
        "  rand_arr = np.random.random(n)\n",
        "  rand_indices = rand_arr >= probability\n",
        "  imgs[rand_indices, :, :, :] = np.fliplr(imgs[rand_indices, : ,: , :])\n",
        "  return imgs"
      ],
      "execution_count": 0,
      "outputs": []
    },
    {
      "metadata": {
        "id": "Ay7xO8-Z5rne",
        "colab_type": "text"
      },
      "cell_type": "markdown",
      "source": [
        "Batch Selection"
      ]
    },
    {
      "metadata": {
        "id": "3O4CM_V-5v0A",
        "colab_type": "code",
        "colab": {}
      },
      "cell_type": "code",
      "source": [
        "def get_class_indices(labels):\n",
        "  tangle_indices = np.nonzero(labels==0)[0]\n",
        "  thread_indices = np.nonzero(labels)[0]\n",
        "  return tangle_indices, thread_indices\n",
        "\n",
        "def batch_permutation(batch_size, indices):\n",
        "  half_batch_size = int(np.floor(batch_size/2))\n",
        "  class_num = len(indices)\n",
        "  permutation = np.random.permutation(class_num)\n",
        "  permutation = permutation[0:batch_size]\n",
        "  return indices[permutation]\n",
        "\n",
        "def oversample_batch(imgs, labels, tangle_indices, thread_indices, batch_size):\n",
        "  tangle_permutation = batch_permutation(batch_size, tangle_indices)\n",
        "  thread_permutation = batch_permutation(batch_size, thread_indices)\n",
        "  \n",
        "  tangle_imgs = imgs[tangle_permutation, :, :, :]\n",
        "  thread_imgs = imgs[thread_permutation, :, :, :]\n",
        "  \n",
        "  tangle_labels = labels[tangle_permutation]\n",
        "  thread_labels = labels[thread_permutation]\n",
        "  \n",
        "  batch_imgs = np.vstack((tangle_imgs, thread_imgs))\n",
        "  batch_labels = np.concatenate((tangle_labels, thread_labels))\n",
        "  return batch_imgs, batch_labels\n",
        "\n",
        "def imbalanced_batch(imgs, labels, batch_size):\n",
        "  permutation = np.random.permutation(len(labels))\n",
        "  permutation = permutation[0:batch_size]\n",
        "  \n",
        "  batch_imgs = imgs[permutation, :, :, :]\n",
        "  batch_labels = labels[permutation]\n",
        "  return batch_imgs, batch_labels"
      ],
      "execution_count": 0,
      "outputs": []
    },
    {
      "metadata": {
        "id": "jVNRmZx75hlm",
        "colab_type": "text"
      },
      "cell_type": "markdown",
      "source": [
        "# Load Data"
      ]
    },
    {
      "metadata": {
        "id": "we-lxFluxQBn",
        "colab_type": "code",
        "colab": {}
      },
      "cell_type": "code",
      "source": [
        "# # Load BBox\n",
        "# bbox_filepath = 'gdrive/My Drive/BE537/regions_bbox.csv'\n",
        "# bboxes = load_bboxes(bbox_filepath)\n",
        "\n",
        "# # # Load and Save Images as Npy\n",
        "# # train_data = load_imgs(np.arange(int(np.floor(0.8*bboxes.shape[0]))))\n",
        "# # test_data = load_imgs(np.arange(int(np.floor(0.8*bboxes.shape[0])), bboxes.shape[0]))\n",
        "# # save_dir = 'gdrive/My Drive/BE537/'\n",
        "# # np.save(save_dir + 'train_imgs.npy', train_data)\n",
        "# # np.save(save_dir + 'test_imgs.npy', test_data)"
      ],
      "execution_count": 0,
      "outputs": []
    },
    {
      "metadata": {
        "id": "9MkMhJsRxJgN",
        "colab_type": "code",
        "colab": {}
      },
      "cell_type": "code",
      "source": [
        "# Can use if you've already generated train_test_data\n",
        "\n",
        "# Get data\n",
        "# train_data = np.load('gdrive/My Drive/BE537/train_data.npy')\n",
        "# test_data = np.load('gdrive/My Drive/BE537/test_data.npy')\n",
        "\n",
        "train_imgs = normalize(np.load('gdrive/My Drive/BE537/train_imgs.npy'))\n",
        "test_imgs = normalize(np.load('gdrive/My Drive/BE537/test_imgs.npy'))\n",
        "\n",
        "train_labels = np.load('gdrive/My Drive/BE537/train_labels.npy').astype(np.int32)\n",
        "test_labels = np.load('gdrive/My Drive/BE537/test_labels.npy').astype(np.int32)\n",
        "\n",
        "# # Separate data and labels\n",
        "# train_labels = train_data[:, 4].astype(np.int32)\n",
        "# train_bbox = train_data[:,0:4]\n",
        "\n",
        "# test_labels = test_data[:, 4].astype(np.int32)\n",
        "# test_bbox = test_data[:, 0:4]\n",
        "\n",
        "# one hot encode labels\n",
        "# n_values = np.max(train_labels_pre) + 1\n",
        "# train_labels = np.eye(n_values)[train_labels_pre]\n",
        "# test_labels = np.eye(n_values)[test_labels_pre]"
      ],
      "execution_count": 0,
      "outputs": []
    },
    {
      "metadata": {
        "id": "e3hKHKLZyrID",
        "colab_type": "text"
      },
      "cell_type": "markdown",
      "source": [
        "# Exploratory Data Analysis"
      ]
    },
    {
      "metadata": {
        "id": "03wARoA2yoM7",
        "colab_type": "text"
      },
      "cell_type": "markdown",
      "source": [
        "Summary Statistics About the Data Set"
      ]
    },
    {
      "metadata": {
        "id": "5zvNp76Zv_te",
        "colab_type": "code",
        "colab": {}
      },
      "cell_type": "code",
      "source": [
        "dataset_class_ratio = np.sum(bboxes[:, 4])/bboxes.shape[0] # tangle: 0, thread: 1\n",
        "print(\"Ratio of tangles to threads in full dataset: \", dataset_class_ratio)\n",
        "\n",
        "# 80/20 split ratio\n",
        "split_idx = int(np.floor(0.8*bboxes.shape[0]))\n",
        "train_data = bboxes[0:split_idx, :]\n",
        "test_data = bboxes[split_idx:, :]\n",
        "\n",
        "train_ratio = np.sum(train_data[:, 4])/train_data.shape[0]\n",
        "test_ratio = np.sum(test_data[:, 4])/test_data.shape[0]\n",
        "\n",
        "print(\"Ratio of tangles to threads in training: \", train_ratio)\n",
        "print(\"Ratio of tangles to threads in test: \", test_ratio)\n",
        "\n",
        "print('') # empty line\n",
        "\n",
        "# Basic Stats about size of bounding boxes\n",
        "full_avg_width = np.mean(bboxes[:, 2])\n",
        "train_avg_width = np.mean(train_data[:, 2])\n",
        "test_avg_width = np.mean(test_data[:, 2])\n",
        "\n",
        "print(\"Dataset Average BBox Width: \", full_avg_width)\n",
        "print(\"Training Data Average BBox Width: \", train_avg_width)\n",
        "print(\"Test Average BBox Width: \", test_avg_width)\n",
        "\n",
        "print(\" \")\n",
        "\n",
        "full_avg_height = np.mean(bboxes[:, 3])\n",
        "train_avg_height = np.mean(train_data[:, 3])\n",
        "test_avg_height = np.mean(test_data[:, 3])\n",
        "\n",
        "print(\"Dataset Average BBox Height: \", full_avg_height)\n",
        "print(\"Training Data Average BBox Height: \", train_avg_height)\n",
        "print(\"Test Average BBox Height: \", test_avg_height)\n",
        "\n",
        "print(\" \")\n",
        "\n",
        "full_avg_height = np.mean(bboxes[:, 3])\n",
        "\n",
        "full_average_box_area = np.mean(np.multiply(bboxes[:, 2], bboxes[:, 3]))\n",
        "train_average_box_area = np.mean(np.multiply(train_data[:, 2], train_data[:, 3]))\n",
        "test_average_box_area = np.mean(np.multiply(test_data[:, 2], test_data[:, 3]))\n",
        "\n",
        "print(\"Dataset Average Bounding Box Area: \", full_average_box_area)\n",
        "print(\"Training Data Average Bounding Box Area\", train_average_box_area)\n",
        "print(\"Test Data Average Bounding Box Area\", test_average_box_area)\n",
        "\n",
        "# Save train and test split for future\n",
        "save_dir = 'gdrive/My Drive/BE537/'\n",
        "np.save(save_dir + 'train_data.npy', train_data)\n",
        "np.save(save_dir + 'test_data.npy', test_data)"
      ],
      "execution_count": 0,
      "outputs": []
    },
    {
      "metadata": {
        "id": "R_oHameXzb5_",
        "colab_type": "text"
      },
      "cell_type": "markdown",
      "source": [
        "# Layers"
      ]
    },
    {
      "metadata": {
        "id": "zzhhLMff0E07",
        "colab_type": "text"
      },
      "cell_type": "markdown",
      "source": [
        "Convolution Layers"
      ]
    },
    {
      "metadata": {
        "id": "378qHZcrF8tJ",
        "colab_type": "code",
        "colab": {}
      },
      "cell_type": "code",
      "source": [
        "def conv_unit(x, hidden_num, kernel_size, stride, is_train, reuse):\n",
        "  vs = tf.get_variable_scope()\n",
        "  x = tf.layers.conv2d(\n",
        "      x,\n",
        "      filters=hidden_num,\n",
        "      kernel_size=kernel_size,\n",
        "      kernel_initializer=tf.initializers.truncated_normal(),\n",
        "      strides=[stride, stride] \n",
        "  )\n",
        "  x = tf.layers.batch_normalization(x, training=is_train)\n",
        "  x = tf.nn.relu(x)\n",
        "  return x\n"
      ],
      "execution_count": 0,
      "outputs": []
    },
    {
      "metadata": {
        "id": "YsRM1Kv40YAQ",
        "colab_type": "text"
      },
      "cell_type": "markdown",
      "source": [
        "Fully Connected Layer"
      ]
    },
    {
      "metadata": {
        "id": "MFKi1qIC0C2D",
        "colab_type": "code",
        "colab": {}
      },
      "cell_type": "code",
      "source": [
        "def fc_unit(x, hidden_num, is_train, reuse):\n",
        "  vs = tf.get_variable_scope()\n",
        "  in_channels = x.get_shape()[1]\n",
        "  W = tf.get_variable('weights', [in_channels, hidden_num],\n",
        "                      initializer=tf.initializers.truncated_normal())\n",
        "  b = tf.get_variable('biases', [1, hidden_num],\n",
        "                      initializer=tf.constant_initializer(0.0))\n",
        "  x = tf.matmul(x, W)\n",
        "  x = tf.layers.batch_normalization(x, training=is_train)\n",
        "  x = tf.nn.relu(x)\n",
        "  return x"
      ],
      "execution_count": 0,
      "outputs": []
    },
    {
      "metadata": {
        "id": "Nik3nDVJ0as3",
        "colab_type": "text"
      },
      "cell_type": "markdown",
      "source": [
        "Residual Block"
      ]
    },
    {
      "metadata": {
        "id": "Bp0a1G-u0c52",
        "colab_type": "code",
        "colab": {}
      },
      "cell_type": "code",
      "source": [
        "def residual_unit(x, hidden_num, kernel_size, stride, is_train, reuse):\n",
        "  x1 = tf.layers.conv2d(\n",
        "      x,\n",
        "      filters=hidden_num,\n",
        "      kernel_size=kernel_size,\n",
        "      kernel_initializer=tf.initializers.truncated_normal(),\n",
        "      strides=[1, 1],\n",
        "      padding='VALID'\n",
        "  )\n",
        "  x1 = tf.layers.batch_normalization(x1, training=is_train)\n",
        "  with tf.variable_scope('1', reuse=reuse):\n",
        "    x2 = conv_unit(x, hidden_num, 3, 1, is_train, reuse)\n",
        "  with tf.variable_scope('2', reuse=reuse):\n",
        "    x2 = tf.layers.conv2d(\n",
        "        x2,\n",
        "        filters=hidden_num,\n",
        "        kernel_size=kernel_size,\n",
        "        kernel_initializer=tf.initializers.truncated_normal(),\n",
        "        strides=[1, 1],\n",
        "        padding='SAME'\n",
        "    )\n",
        "  with tf.variable_scope('combine', reuse=reuse):\n",
        "    x = x1 + x2\n",
        "    x = tf.layers.batch_normalization(x, training=is_train)\n",
        "  return x"
      ],
      "execution_count": 0,
      "outputs": []
    },
    {
      "metadata": {
        "id": "bUe5F3Xv04rw",
        "colab_type": "text"
      },
      "cell_type": "markdown",
      "source": [
        "# Models"
      ]
    },
    {
      "metadata": {
        "id": "QnLXobV2awd7",
        "colab_type": "code",
        "colab": {}
      },
      "cell_type": "code",
      "source": [
        "def ConvNet(x, batch_size, pool_size, is_train, reuse=tf.AUTO_REUSE):\n",
        "  with tf.variable_scope('ConvNet', reuse=reuse) as vs:\n",
        "    hidden_num = 8\n",
        "    kernel_size = 3\n",
        "    stride = 2\n",
        "    with tf.variable_scope('first', reuse=reuse):\n",
        "      x = conv_unit(x, hidden_num, kernel_size, stride, is_train, reuse)\n",
        "    with tf.variable_scope('second', reuse=reuse):\n",
        "      hidden_num = hidden_num * 2\n",
        "      x = conv_unit(x, hidden_num, kernel_size, stride, is_train, reuse)\n",
        "    with tf.variable_scope('third', reuse=reuse):\n",
        "      hidden_num = hidden_num * 2\n",
        "      x = conv_unit(x, hidden_num, kernel_size, stride, is_train, reuse)\n",
        "    with tf.variable_scope('fourth', reuse=reuse):\n",
        "      hidden_num = hidden_num * 2\n",
        "    with tf.variable_scope('fifth', reuse=reuse):\n",
        "      hidden_num = hidden_num * 2\n",
        "      x = conv_unit(x, hidden_num, kernel_size, stride, is_train, reuse)\n",
        "    with tf.variable_scope('last', reuse=reuse):\n",
        "      hidden_num = hidden_num * 2\n",
        "      x = tf.layers.conv2d(\n",
        "          x,\n",
        "          filters=hidden_num,\n",
        "          kernel_size=kernel_size,\n",
        "          kernel_initializer=tf.initializers.truncated_normal(),\n",
        "          strides=[stride, stride]\n",
        "      )\n",
        "      x_shape = x.shape\n",
        "      x = tf.reshape(x, [-1, x_shape[1]*x_shape[2]*x_shape[3]])\n",
        "      x = tf.nn.dropout(x, 0.5)\n",
        "      x = tf.layers.dense(x, c_num, kernel_initializer=tf.initializers.truncated_normal())\n",
        "    return x"
      ],
      "execution_count": 0,
      "outputs": []
    },
    {
      "metadata": {
        "id": "bPeFZOoy1E4L",
        "colab_type": "code",
        "colab": {}
      },
      "cell_type": "code",
      "source": [
        "def ResNet(x, batch_size, pool_size, is_train, reuse=tf.AUTO_REUSE):\n",
        "  with tf.variable_scope('C', reuse=reuse) as vs:\n",
        "    with tf.variable_scope('first', reuse=reuse):\n",
        "      hidden_num = 8\n",
        "      x = residual_unit(x, hidden_num, 3, 1, is_train, reuse)\n",
        "      x = tf.nn.max_pool(x, ksize=[1, pool_size, pool_size, 1], strides=[1, 2, 2, 1], padding='SAME')\n",
        "    for l in range(2):\n",
        "      hidden_num = hidden_num * 2\n",
        "      with tf.variable_scope('rd_conv_' + str(l), reuse=reuse):\n",
        "        x = residual_unit(x, hidden_num, 3, 1, is_train, reuse)\n",
        "        x = tf.nn.max_pool(x, ksize=[1, pool_size, pool_size, 1], strides=[1, 2, 2, 1], padding='SAME')\n",
        "    with tf.variable_scope('last', reuse=reuse):\n",
        "      hidden_num = 2 * hidden_num\n",
        "      x = conv_unit(x, hidden_num, 3, 1, is_train, reuse)\n",
        "      x = tf.nn.max_pool(x, ksize=[1, pool_size, pool_size, 1], strides=[1, 2, 2, 1], padding='SAME')\n",
        "      x_shape = x.shape\n",
        "      x = tf.reshape(x, [-1, x_shape[1]*x_shape[2]*x_shape[3]])\n",
        "\n",
        "    feat = x\n",
        "#     x = tf.nn.dropout(x, 0.9)\n",
        "    x = tf.layers.dense(x, c_num, kernel_initializer=tf.initializers.truncated_normal())\n",
        "      \n",
        "  return x"
      ],
      "execution_count": 0,
      "outputs": []
    },
    {
      "metadata": {
        "id": "c86yoRJW2Hdg",
        "colab_type": "text"
      },
      "cell_type": "markdown",
      "source": [
        "# Experiments for Trianing Models"
      ]
    },
    {
      "metadata": {
        "id": "Y4Rvkqm87TZt",
        "colab_type": "code",
        "colab": {}
      },
      "cell_type": "code",
      "source": [
        "# Graph/Plot Config\n",
        "alpha = 0.001\n",
        "batch_size = 64\n",
        "color_channels = 3\n",
        "c_num = 2\n",
        "iterations = 600\n",
        "lr = .001\n",
        "run_name = 'ResNet_SGD_lr001'\n",
        "\n",
        "config = tf.ConfigProto()\n",
        "config.gpu_options.allow_growth = True"
      ],
      "execution_count": 0,
      "outputs": []
    },
    {
      "metadata": {
        "id": "e3m08GPn2G0-",
        "colab_type": "code",
        "outputId": "c5b9fec9-7309-406a-b728-0cfad60610ec",
        "colab": {
          "base_uri": "https://localhost:8080/",
          "height": 221
        }
      },
      "cell_type": "code",
      "source": [
        "train_tangle_indices, train_thread_indices = get_class_indices(train_labels)\n",
        "\n",
        "# reset graph between runs\n",
        "tf.reset_default_graph()\n",
        "\n",
        "# allocate memory for data and labels\n",
        "data = tf.placeholder(tf.float32, [None, 256, 256, color_channels])\n",
        "labels = tf.placeholder(tf.int32, [None])\n",
        "training= tf.placeholder(tf.bool)\n",
        "\n",
        "#ResNet\n",
        "# x = ConvNet(data, batch_size, 2, training)\n",
        "x = ResNet(data, batch_size, 2, training)\n",
        "loss = tf.reduce_mean(tf.nn.sigmoid_cross_entropy_with_logits(\n",
        "    labels=tf.one_hot(labels, 2),\n",
        "    logits=x,\n",
        "    name='sigmoid_cross_entropy_loss'\n",
        "))\n",
        "\n",
        "# Predictions\n",
        "predictions = tf.cast(tf.argmax(tf.nn.softmax(x), axis=1), dtype=tf.int32)\n",
        "accuracy = tf.reduce_mean(tf.to_float(tf.equal(predictions, labels)))\n",
        "\n",
        "mean_pred = tf.reduce_mean(tf.to_float(predictions))\n",
        "\n",
        "# Additional Metrics\n",
        "TP = tf.count_nonzero(predictions * labels)\n",
        "TN = tf.count_nonzero((predictions - 1) * (labels - 1))\n",
        "FP = tf.count_nonzero(predictions * (labels - 1))\n",
        "FN = tf.count_nonzero((predictions - 1) * labels)\n",
        "\n",
        "precision = TP / (TP + FP)\n",
        "recall = TP / (TP + FN)\n",
        "F1 = 2 * precision * recall / (precision + recall)\n",
        "\n",
        "# Optimize\n",
        "opt = tf.train.GradientDescentOptimizer(lr).minimize(loss)\n",
        "\n",
        "with tf.Session(config=config) as sess:\n",
        "  # initialize variables\n",
        "  sess.run(tf.global_variables_initializer())\n",
        "  \n",
        "  # Initialization for Plots\n",
        "  training_loss = np.zeros([iterations])\n",
        "  training_accuracy = np.zeros([iterations])\n",
        "  training_pred = np.empty([iterations])\n",
        "  test_loss = np.zeros([iterations])\n",
        "  test_accuracy = np.zeros([iterations])\n",
        "  \n",
        "  # Reusable Vars\n",
        "  \n",
        "  \n",
        "  for iteration in range(iterations):\n",
        "    # Get batch data\n",
        "    batch_data, batch_labels = oversample_batch(\n",
        "        train_imgs, \n",
        "        train_labels, \n",
        "        train_tangle_indices, \n",
        "        train_thread_indices, \n",
        "        batch_size\n",
        "    )\n",
        "#     batch_data, batch_labels = imbalanced_batch(train_imgs, train_labels, batch_size)\n",
        "    \n",
        "    # Run Session\n",
        "    loss_training, _ = sess.run(\n",
        "        [loss, opt],\n",
        "        feed_dict={\n",
        "            data: batch_data,\n",
        "            labels: batch_labels,\n",
        "            training: True\n",
        "        }\n",
        "    )\n",
        "    training_loss[iteration] = loss_training\n",
        "    training_accuracy[iteration] = accuracy.eval(\n",
        "        feed_dict={\n",
        "            data: batch_data,\n",
        "            labels: batch_labels,\n",
        "            training: False\n",
        "        }\n",
        "    )\n",
        "    training_pred[iteration] = mean_pred.eval(\n",
        "        feed_dict={\n",
        "            data: batch_data,\n",
        "            labels: batch_labels,\n",
        "            training: False\n",
        "        }\n",
        "    )\n",
        "    \n",
        "    test_loss[iteration] = loss.eval(\n",
        "        feed_dict={\n",
        "            data: test_imgs,\n",
        "            labels: test_labels,\n",
        "            training: False\n",
        "        }\n",
        "    )\n",
        "    test_accuracy[iteration] = accuracy.eval(\n",
        "        feed_dict={\n",
        "            data: test_imgs,\n",
        "            labels: test_labels,\n",
        "            training: False\n",
        "        }\n",
        "    )\n",
        "    \n",
        "    if iteration % 100 == 0:\n",
        "      print(\"Iteration: \", iteration)\n",
        "      print(\"Training Loss: \", training_loss[iteration], \"Training Accuracy: \", training_accuracy[iteration], \"Mean Prediction: \", training_pred[iteration])\n",
        "  f1 = F1.eval(\n",
        "        feed_dict={\n",
        "            data: test_imgs,\n",
        "            labels: test_labels,\n",
        "            training: False\n",
        "        }        \n",
        "    )\n",
        "  Precision = precision.eval(\n",
        "      feed_dict={\n",
        "          data: test_imgs,\n",
        "          labels: test_labels,\n",
        "          training: False\n",
        "      }        \n",
        "  )\n",
        "  Recall = recall.eval(\n",
        "      feed_dict={\n",
        "          data: test_imgs,\n",
        "          labels: test_labels,\n",
        "          training: False\n",
        "      }        \n",
        "  )"
      ],
      "execution_count": 0,
      "outputs": [
        {
          "output_type": "stream",
          "text": [
            "Iteration:  0\n",
            "Training Loss:  48.92107009887695 Training Accuracy:  0.515625 Mean Prediction:  0.375\n",
            "Iteration:  100\n",
            "Training Loss:  17.878021240234375 Training Accuracy:  0.53125 Mean Prediction:  0.8125\n",
            "Iteration:  200\n",
            "Training Loss:  13.644281387329102 Training Accuracy:  0.4609375 Mean Prediction:  0.8203125\n",
            "Iteration:  300\n",
            "Training Loss:  12.667191505432129 Training Accuracy:  0.453125 Mean Prediction:  0.890625\n",
            "Iteration:  400\n",
            "Training Loss:  12.204840660095215 Training Accuracy:  0.5234375 Mean Prediction:  0.9453125\n",
            "Iteration:  500\n",
            "Training Loss:  6.9999284744262695 Training Accuracy:  0.5078125 Mean Prediction:  0.9453125\n"
          ],
          "name": "stdout"
        }
      ]
    },
    {
      "metadata": {
        "id": "TGu0aFf2hsDM",
        "colab_type": "code",
        "colab": {}
      },
      "cell_type": "code",
      "source": [
        "training_loss = training_loss[0:iteration - 1]\n",
        "training_accuracy = training_accuracy[0:iteration - 1]\n",
        "test_accuracy = test_accuracy[0:iteration - 1]"
      ],
      "execution_count": 0,
      "outputs": []
    },
    {
      "metadata": {
        "id": "tMtOQAhq39ot",
        "colab_type": "text"
      },
      "cell_type": "markdown",
      "source": [
        "Issues with Training\n",
        "\n",
        "\n",
        "* Class Imbalace (only predict one class)\n",
        "* Large Networks have memory constraints on GPU\n",
        "* \n",
        "\n",
        "\n"
      ]
    },
    {
      "metadata": {
        "id": "Vn4wzeP5B2G7",
        "colab_type": "text"
      },
      "cell_type": "markdown",
      "source": [
        "# Result Analysis"
      ]
    },
    {
      "metadata": {
        "id": "RwIe0bkj7hjT",
        "colab_type": "code",
        "outputId": "afb390f8-d5b2-4acc-c939-d6ac1ef009d7",
        "colab": {
          "base_uri": "https://localhost:8080/",
          "height": 376
        }
      },
      "cell_type": "code",
      "source": [
        "# Loss Plot\n",
        "\n",
        "fig = plt.figure()\n",
        "plt.plot(training_loss, label='Training Loss')\n",
        "# plt.plot(test_loss, label='Test Loss')\n",
        "plt.xlabel('Training Iterations')\n",
        "plt.ylabel('Loss')\n",
        "plt.title('Loss over Training Iterations (ResNet)')\n",
        "plt.legend()\n",
        "plt.savefig('gdrive/My Drive/BE537/' + run_name + 'loss_plot'  + '.png', dpi=300)\n",
        "plt.show()"
      ],
      "execution_count": 0,
      "outputs": [
        {
          "output_type": "display_data",
          "data": {
            "image/png": "[encoded data removed]",
            "text/plain": [
              "<matplotlib.figure.Figure at 0x7f33d3c9ed68>"
            ]
          },
          "metadata": {
            "tags": []
          }
        }
      ]
    },
    {
      "metadata": {
        "id": "6ADnCjWyBd5C",
        "colab_type": "code",
        "outputId": "ce82655b-f792-41bf-97f3-87620edd9a8a",
        "colab": {
          "base_uri": "https://localhost:8080/",
          "height": 376
        }
      },
      "cell_type": "code",
      "source": [
        "# Accuracy Plot\n",
        "\n",
        "fig1 = plt.figure()\n",
        "plt.plot(training_accuracy, label='Training Accuracy')\n",
        "plt.plot(test_accuracy, label='Test Accuracy')\n",
        "plt.xlabel('Training Iterations')\n",
        "plt.ylabel('Accuracy')\n",
        "plt.title('Accuracy over Training Iterations (ResNet)')\n",
        "plt.legend()\n",
        "plt.savefig('gdrive/My Drive/BE537/' + run_name + 'accuracy_plot'  + '.png', dpi=300)\n",
        "plt.show()"
      ],
      "execution_count": 0,
      "outputs": [
        {
          "output_type": "display_data",
          "data": {
            "image/png": "[encoded data removed]",
            "text/plain": [
              "<matplotlib.figure.Figure at 0x7f33d3f4c208>"
            ]
          },
          "metadata": {
            "tags": []
          }
        }
      ]
    },
    {
      "metadata": {
        "id": "RAJUy1jBk5B8",
        "colab_type": "code",
        "outputId": "ca1ea02e-6632-44a4-b40d-56e4235bb77a",
        "colab": {
          "base_uri": "https://localhost:8080/",
          "height": 34
        }
      },
      "cell_type": "code",
      "source": [
        "print(test_accuracy[iteration-1])"
      ],
      "execution_count": 0,
      "outputs": [
        {
          "output_type": "stream",
          "text": [
            "0.7986111044883728\n"
          ],
          "name": "stdout"
        }
      ]
    },
    {
      "metadata": {
        "id": "0ZkRSqXWYGbx",
        "colab_type": "code",
        "outputId": "d3ac3057-2b7f-4f97-dd0c-51d4e1a3b878",
        "colab": {
          "base_uri": "https://localhost:8080/",
          "height": 376
        }
      },
      "cell_type": "code",
      "source": [
        "fig1 = plt.figure()\n",
        "plt.plot(training_pred, label='Training Prediction')\n",
        "plt.xlabel('Training Iterations')\n",
        "plt.ylabel('Mean Prediction')\n",
        "plt.title('Prediction over Training Iterations (ResNet)')\n",
        "plt.legend()\n",
        "plt.savefig('gdrive/My Drive/BE537/' + run_name + 'prediction_plot'  + '.png', dpi=300)\n",
        "plt.show()"
      ],
      "execution_count": 0,
      "outputs": [
        {
          "output_type": "display_data",
          "data": {
            "image/png": "[encoded data removed]",
            "text/plain": [
              "<matplotlib.figure.Figure at 0x7f33bafae1d0>"
            ]
          },
          "metadata": {
            "tags": []
          }
        }
      ]
    },
    {
      "metadata": {
        "id": "M5wmtErRGhWL",
        "colab_type": "code",
        "outputId": "5d514559-221a-4f3c-90c9-e58f5212afbe",
        "colab": {
          "base_uri": "https://localhost:8080/",
          "height": 34
        }
      },
      "cell_type": "code",
      "source": [
        "print('F1 Score: ', f1)"
      ],
      "execution_count": 0,
      "outputs": [
        {
          "output_type": "stream",
          "text": [
            "F1 Score:  0.88715953307393\n"
          ],
          "name": "stdout"
        }
      ]
    },
    {
      "metadata": {
        "id": "AGlUKeW46Pgj",
        "colab_type": "code",
        "outputId": "bf4b73ca-c0bd-49b9-fdbd-208940580206",
        "colab": {
          "base_uri": "https://localhost:8080/",
          "height": 34
        }
      },
      "cell_type": "code",
      "source": [
        "print('Precision: ', Precision, 'Recall: ', Recall)"
      ],
      "execution_count": 0,
      "outputs": [
        {
          "output_type": "stream",
          "text": [
            "Precision:  0.8201438848920863 Recall:  0.9661016949152542\n"
          ],
          "name": "stdout"
        }
      ]
    },
    {
      "metadata": {
        "id": "mcGsCFwAPKHd",
        "colab_type": "text"
      },
      "cell_type": "markdown",
      "source": [
        "resnet3 sgd 001 - f1: .8845\n",
        "resnet sgd 001 imbalance - f1: .9007, .8194 precision, recall  = 1\n",
        "resnet sgd 001 balance: .88176, precision: .82014, recall: .9661"
      ]
    }
  ]
}